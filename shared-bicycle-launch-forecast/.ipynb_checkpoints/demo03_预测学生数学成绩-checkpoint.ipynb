{
 "cells": [
  {
   "cell_type": "markdown",
   "metadata": {},
   "source": [
    "# demo03_预测学生数学成绩"
   ]
  },
  {
   "cell_type": "code",
   "execution_count": 4,
   "metadata": {},
   "outputs": [],
   "source": [
    "import numpy as np\n",
    "import pandas as pd\n",
    "import sklearn.preprocessing as sp"
   ]
  },
  {
   "cell_type": "code",
   "execution_count": 7,
   "metadata": {},
   "outputs": [
    {
     "name": "stdout",
     "output_type": "stream",
     "text": [
      "['female' 'male']\n",
      "['group A' 'group B' 'group C' 'group D' 'group E']\n",
      "[\"associate's degree\" \"bachelor's degree\" 'high school' \"master's degree\"\n",
      " 'some college' 'some high school']\n",
      "['free/reduced' 'standard']\n",
      "['completed' 'none']\n"
     ]
    },
    {
     "data": {
      "text/html": [
       "<div>\n",
       "<style scoped>\n",
       "    .dataframe tbody tr th:only-of-type {\n",
       "        vertical-align: middle;\n",
       "    }\n",
       "\n",
       "    .dataframe tbody tr th {\n",
       "        vertical-align: top;\n",
       "    }\n",
       "\n",
       "    .dataframe thead th {\n",
       "        text-align: right;\n",
       "    }\n",
       "</style>\n",
       "<table border=\"1\" class=\"dataframe\">\n",
       "  <thead>\n",
       "    <tr style=\"text-align: right;\">\n",
       "      <th></th>\n",
       "      <th>gender</th>\n",
       "      <th>race/ethnicity</th>\n",
       "      <th>parental level of education</th>\n",
       "      <th>lunch</th>\n",
       "      <th>test preparation course</th>\n",
       "      <th>math score</th>\n",
       "    </tr>\n",
       "  </thead>\n",
       "  <tbody>\n",
       "    <tr>\n",
       "      <th>0</th>\n",
       "      <td>0</td>\n",
       "      <td>1</td>\n",
       "      <td>1</td>\n",
       "      <td>1</td>\n",
       "      <td>1</td>\n",
       "      <td>72</td>\n",
       "    </tr>\n",
       "    <tr>\n",
       "      <th>1</th>\n",
       "      <td>0</td>\n",
       "      <td>2</td>\n",
       "      <td>4</td>\n",
       "      <td>1</td>\n",
       "      <td>0</td>\n",
       "      <td>69</td>\n",
       "    </tr>\n",
       "    <tr>\n",
       "      <th>2</th>\n",
       "      <td>0</td>\n",
       "      <td>1</td>\n",
       "      <td>3</td>\n",
       "      <td>1</td>\n",
       "      <td>1</td>\n",
       "      <td>90</td>\n",
       "    </tr>\n",
       "    <tr>\n",
       "      <th>3</th>\n",
       "      <td>1</td>\n",
       "      <td>0</td>\n",
       "      <td>0</td>\n",
       "      <td>0</td>\n",
       "      <td>1</td>\n",
       "      <td>47</td>\n",
       "    </tr>\n",
       "    <tr>\n",
       "      <th>4</th>\n",
       "      <td>1</td>\n",
       "      <td>2</td>\n",
       "      <td>4</td>\n",
       "      <td>1</td>\n",
       "      <td>1</td>\n",
       "      <td>76</td>\n",
       "    </tr>\n",
       "  </tbody>\n",
       "</table>\n",
       "</div>"
      ],
      "text/plain": [
       "   gender  race/ethnicity  parental level of education  lunch  \\\n",
       "0       0               1                            1      1   \n",
       "1       0               2                            4      1   \n",
       "2       0               1                            3      1   \n",
       "3       1               0                            0      0   \n",
       "4       1               2                            4      1   \n",
       "\n",
       "   test preparation course  math score  \n",
       "0                        1          72  \n",
       "1                        0          69  \n",
       "2                        1          90  \n",
       "3                        1          47  \n",
       "4                        1          76  "
      ]
     },
     "execution_count": 7,
     "metadata": {},
     "output_type": "execute_result"
    }
   ],
   "source": [
    "data = pd.read_csv(\n",
    "    '../data/学生考试表现数据/StudentsPerformance.csv', \n",
    "    engine='python')\n",
    "\n",
    "for k, v in data.loc[:, :'test preparation course'].items():\n",
    "    e = sp.LabelEncoder()\n",
    "    data[k] = e.fit_transform(v)\n",
    "    print(e.classes_)\n",
    "data = data.loc[:, :'math score']\n",
    "data.head()"
   ]
  },
  {
   "cell_type": "markdown",
   "metadata": {},
   "source": [
    "## 训练模型"
   ]
  },
  {
   "cell_type": "code",
   "execution_count": 8,
   "metadata": {},
   "outputs": [],
   "source": [
    "import sklearn.preprocessing as sp\n",
    "import sklearn.pipeline as pl\n",
    "import sklearn.model_selection as ms\n",
    "import sklearn.metrics as sm"
   ]
  },
  {
   "cell_type": "code",
   "execution_count": 9,
   "metadata": {},
   "outputs": [
    {
     "data": {
      "text/plain": [
       "((900, 5), (900,), (100, 5), (100,))"
      ]
     },
     "execution_count": 9,
     "metadata": {},
     "output_type": "execute_result"
    }
   ],
   "source": [
    "# 整理输入输出集\n",
    "x, y = data.loc[:, :'test preparation course'], data['math score']\n",
    "# 拆分测试集训练集\n",
    "train_x, test_x, train_y, test_y = \\\n",
    "    ms.train_test_split(x, y, test_size=0.1, random_state=7)\n",
    "train_x.shape, train_y.shape, test_x.shape, test_y.shape"
   ]
  },
  {
   "cell_type": "code",
   "execution_count": 10,
   "metadata": {},
   "outputs": [
    {
     "name": "stdout",
     "output_type": "stream",
     "text": [
      "Training r2: 0.2311355957090051\n",
      "Testing r2: 0.15025561846513014\n",
      "Testing MAE: 10.546468385023935\n"
     ]
    }
   ],
   "source": [
    "# 岭回归\n",
    "import sklearn.linear_model as lm\n",
    "import sklearn.metrics as sm\n",
    "\n",
    "model = lm.Ridge()\n",
    "model.fit(train_x, train_y)\n",
    "# 评估\n",
    "pred_train_y = model.predict(train_x)\n",
    "pred_test_y = model.predict(test_x)\n",
    "print('Training r2:', sm.r2_score(train_y, pred_train_y))\n",
    "print('Testing r2:', sm.r2_score(test_y, pred_test_y))\n",
    "print('Testing MAE:', sm.mean_absolute_error(test_y, pred_test_y))"
   ]
  },
  {
   "cell_type": "code",
   "execution_count": 14,
   "metadata": {},
   "outputs": [
    {
     "name": "stdout",
     "output_type": "stream",
     "text": [
      "Training r2: 0.26983230373905376\n",
      "Testing r2: 0.16615873222887845\n",
      "Testing MAE: 10.486880624198921\n"
     ]
    }
   ],
   "source": [
    "# 多项式回归\n",
    "import sklearn.linear_model as lm\n",
    "import sklearn.metrics as sm\n",
    "import sklearn.preprocessing as sp\n",
    "import sklearn.pipeline as pl\n",
    "\n",
    "model = pl.make_pipeline(sp.PolynomialFeatures(4), lm.Ridge())\n",
    "model.fit(train_x, train_y)\n",
    "# 评估\n",
    "pred_train_y = model.predict(train_x)\n",
    "pred_test_y = model.predict(test_x)\n",
    "print('Training r2:', sm.r2_score(train_y, pred_train_y))\n",
    "print('Testing r2:', sm.r2_score(test_y, pred_test_y))\n",
    "print('Testing MAE:', sm.mean_absolute_error(test_y, pred_test_y))"
   ]
  },
  {
   "cell_type": "code",
   "execution_count": 17,
   "metadata": {},
   "outputs": [
    {
     "name": "stdout",
     "output_type": "stream",
     "text": [
      "Training r2: 0.36096009163375153\n",
      "Testing r2: -0.0569793610633067\n"
     ]
    }
   ],
   "source": [
    "import sklearn.ensemble as se\n",
    "import sklearn.tree as st\n",
    "\n",
    "model = st.DecisionTreeRegressor(max_depth=10)\n",
    "model = se.AdaBoostRegressor(\n",
    "            model, n_estimators=200, random_state=7)\n",
    "model.fit(train_x, train_y)\n",
    "pred_train_y = model.predict(train_x)\n",
    "pred_test_y = model.predict(test_x)\n",
    "print('Training r2:', sm.r2_score(train_y, pred_train_y))\n",
    "print('Testing r2:', sm.r2_score(test_y, pred_test_y))"
   ]
  },
  {
   "cell_type": "code",
   "execution_count": 18,
   "metadata": {},
   "outputs": [
    {
     "name": "stdout",
     "output_type": "stream",
     "text": [
      "Training r2: 0.37279728350574215\n",
      "Testing r2: -0.02160164374415241\n",
      "Testing MAE: 11.477396076567661\n"
     ]
    }
   ],
   "source": [
    "model = se.GradientBoostingRegressor(\n",
    "    max_depth=4, n_estimators=500, min_samples_split=3)\n",
    "model.fit(train_x, train_y)\n",
    "pred_train_y = model.predict(train_x)\n",
    "pred_test_y = model.predict(test_x)\n",
    "print('Training r2:', sm.r2_score(train_y, pred_train_y))\n",
    "print('Testing r2:', sm.r2_score(test_y, pred_test_y))\n",
    "print('Testing MAE:', sm.mean_absolute_error(test_y, pred_test_y))"
   ]
  },
  {
   "cell_type": "code",
   "execution_count": 19,
   "metadata": {
    "scrolled": true
   },
   "outputs": [
    {
     "name": "stdout",
     "output_type": "stream",
     "text": [
      "Training r2: 0.35671503869104393\n",
      "Testing r2: 0.07885557870754312\n",
      "Testing MAE: 10.796428702486686\n"
     ]
    }
   ],
   "source": [
    "model = se.RandomForestRegressor(\n",
    "    max_depth=10, n_estimators=200, min_samples_split=10)\n",
    "model.fit(train_x, train_y)\n",
    "pred_train_y = model.predict(train_x)\n",
    "pred_test_y = model.predict(test_x)\n",
    "print('Training r2:', sm.r2_score(train_y, pred_train_y))\n",
    "print('Testing r2:', sm.r2_score(test_y, pred_test_y))\n",
    "print('Testing MAE:', sm.mean_absolute_error(test_y, pred_test_y))"
   ]
  },
  {
   "cell_type": "code",
   "execution_count": 23,
   "metadata": {},
   "outputs": [
    {
     "name": "stdout",
     "output_type": "stream",
     "text": [
      "Training r2: 0.24319209298809463\n",
      "Testing r2: 0.09276542667560894\n",
      "Testing MAE: 10.980674408816935\n"
     ]
    }
   ],
   "source": [
    "# 决策树回归\n",
    "import sklearn.metrics as sm\n",
    "import sklearn.tree as st\n",
    "\n",
    "# 如果出现了过拟合情况：\n",
    "# 把max_depth调低一点、把min_samples_split调高一点\n",
    "model = st.DecisionTreeRegressor(\n",
    "        max_depth=4, min_samples_split=5)\n",
    "model.fit(train_x, train_y)\n",
    "# 评估\n",
    "pred_train_y = model.predict(train_x)\n",
    "pred_test_y = model.predict(test_x)\n",
    "print('Training r2:', sm.r2_score(train_y, pred_train_y))\n",
    "print('Testing r2:', sm.r2_score(test_y, pred_test_y))\n",
    "print('Testing MAE:', sm.mean_absolute_error(test_y, pred_test_y))"
   ]
  },
  {
   "cell_type": "code",
   "execution_count": 34,
   "metadata": {},
   "outputs": [
    {
     "data": {
      "text/html": [
       "<div>\n",
       "<style scoped>\n",
       "    .dataframe tbody tr th:only-of-type {\n",
       "        vertical-align: middle;\n",
       "    }\n",
       "\n",
       "    .dataframe tbody tr th {\n",
       "        vertical-align: top;\n",
       "    }\n",
       "\n",
       "    .dataframe thead th {\n",
       "        text-align: right;\n",
       "    }\n",
       "</style>\n",
       "<table border=\"1\" class=\"dataframe\">\n",
       "  <thead>\n",
       "    <tr style=\"text-align: right;\">\n",
       "      <th></th>\n",
       "      <th>gender</th>\n",
       "      <th>race/ethnicity</th>\n",
       "      <th>parental level of education</th>\n",
       "      <th>lunch</th>\n",
       "      <th>test preparation course</th>\n",
       "      <th>math score</th>\n",
       "    </tr>\n",
       "  </thead>\n",
       "  <tbody>\n",
       "    <tr>\n",
       "      <th>689</th>\n",
       "      <td>1</td>\n",
       "      <td>4</td>\n",
       "      <td>4</td>\n",
       "      <td>0</td>\n",
       "      <td>1</td>\n",
       "      <td>93</td>\n",
       "    </tr>\n",
       "    <tr>\n",
       "      <th>339</th>\n",
       "      <td>0</td>\n",
       "      <td>3</td>\n",
       "      <td>5</td>\n",
       "      <td>0</td>\n",
       "      <td>0</td>\n",
       "      <td>35</td>\n",
       "    </tr>\n",
       "    <tr>\n",
       "      <th>299</th>\n",
       "      <td>1</td>\n",
       "      <td>3</td>\n",
       "      <td>0</td>\n",
       "      <td>0</td>\n",
       "      <td>1</td>\n",
       "      <td>90</td>\n",
       "    </tr>\n",
       "    <tr>\n",
       "      <th>979</th>\n",
       "      <td>0</td>\n",
       "      <td>2</td>\n",
       "      <td>0</td>\n",
       "      <td>1</td>\n",
       "      <td>1</td>\n",
       "      <td>91</td>\n",
       "    </tr>\n",
       "    <tr>\n",
       "      <th>786</th>\n",
       "      <td>0</td>\n",
       "      <td>4</td>\n",
       "      <td>5</td>\n",
       "      <td>0</td>\n",
       "      <td>1</td>\n",
       "      <td>72</td>\n",
       "    </tr>\n",
       "    <tr>\n",
       "      <th>962</th>\n",
       "      <td>0</td>\n",
       "      <td>4</td>\n",
       "      <td>0</td>\n",
       "      <td>1</td>\n",
       "      <td>1</td>\n",
       "      <td>100</td>\n",
       "    </tr>\n",
       "    <tr>\n",
       "      <th>34</th>\n",
       "      <td>1</td>\n",
       "      <td>4</td>\n",
       "      <td>4</td>\n",
       "      <td>1</td>\n",
       "      <td>1</td>\n",
       "      <td>97</td>\n",
       "    </tr>\n",
       "    <tr>\n",
       "      <th>125</th>\n",
       "      <td>0</td>\n",
       "      <td>1</td>\n",
       "      <td>2</td>\n",
       "      <td>1</td>\n",
       "      <td>1</td>\n",
       "      <td>87</td>\n",
       "    </tr>\n",
       "    <tr>\n",
       "      <th>277</th>\n",
       "      <td>0</td>\n",
       "      <td>4</td>\n",
       "      <td>2</td>\n",
       "      <td>1</td>\n",
       "      <td>0</td>\n",
       "      <td>59</td>\n",
       "    </tr>\n",
       "    <tr>\n",
       "      <th>377</th>\n",
       "      <td>0</td>\n",
       "      <td>3</td>\n",
       "      <td>3</td>\n",
       "      <td>0</td>\n",
       "      <td>0</td>\n",
       "      <td>85</td>\n",
       "    </tr>\n",
       "  </tbody>\n",
       "</table>\n",
       "</div>"
      ],
      "text/plain": [
       "     gender  race/ethnicity  parental level of education  lunch  \\\n",
       "689       1               4                            4      0   \n",
       "339       0               3                            5      0   \n",
       "299       1               3                            0      0   \n",
       "979       0               2                            0      1   \n",
       "786       0               4                            5      0   \n",
       "962       0               4                            0      1   \n",
       "34        1               4                            4      1   \n",
       "125       0               1                            2      1   \n",
       "277       0               4                            2      1   \n",
       "377       0               3                            3      0   \n",
       "\n",
       "     test preparation course  math score  \n",
       "689                        1          93  \n",
       "339                        0          35  \n",
       "299                        1          90  \n",
       "979                        1          91  \n",
       "786                        1          72  \n",
       "962                        1         100  \n",
       "34                         1          97  \n",
       "125                        1          87  \n",
       "277                        0          59  \n",
       "377                        0          85  "
      ]
     },
     "execution_count": 34,
     "metadata": {},
     "output_type": "execute_result"
    }
   ],
   "source": [
    "# 把测试结果放在一起，比较一下，看一下那些样本问题最大\n",
    "r = pd.DataFrame({'test_y':test_y, 'pred_test_y':pred_test_y})\n",
    "r['diff'] = np.abs(r['test_y']-r['pred_test_y'])\n",
    "r = r.sort_values(by='diff', ascending=False)\n",
    "r\n",
    "# 获取问题样本\n",
    "data.loc[r.head(10).index]"
   ]
  }
 ],
 "metadata": {
  "kernelspec": {
   "display_name": "Python 3",
   "language": "python",
   "name": "python3"
  },
  "language_info": {
   "codemirror_mode": {
    "name": "ipython",
    "version": 3
   },
   "file_extension": ".py",
   "mimetype": "text/x-python",
   "name": "python",
   "nbconvert_exporter": "python",
   "pygments_lexer": "ipython3",
   "version": "3.8.2"
  }
 },
 "nbformat": 4,
 "nbformat_minor": 2
}
