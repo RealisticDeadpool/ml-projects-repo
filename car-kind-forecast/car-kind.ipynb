{
 "cells": [
  {
   "cell_type": "code",
   "execution_count": 2,
   "id": "northern-congo",
   "metadata": {},
   "outputs": [],
   "source": [
    "import numpy as np\n",
    "import pandas as pd"
   ]
  },
  {
   "cell_type": "code",
   "execution_count": 3,
   "id": "bored-pulse",
   "metadata": {},
   "outputs": [
    {
     "data": {
      "text/html": [
       "<div>\n",
       "<style scoped>\n",
       "    .dataframe tbody tr th:only-of-type {\n",
       "        vertical-align: middle;\n",
       "    }\n",
       "\n",
       "    .dataframe tbody tr th {\n",
       "        vertical-align: top;\n",
       "    }\n",
       "\n",
       "    .dataframe thead th {\n",
       "        text-align: right;\n",
       "    }\n",
       "</style>\n",
       "<table border=\"1\" class=\"dataframe\">\n",
       "  <thead>\n",
       "    <tr style=\"text-align: right;\">\n",
       "      <th></th>\n",
       "      <th>0</th>\n",
       "      <th>1</th>\n",
       "      <th>2</th>\n",
       "      <th>3</th>\n",
       "      <th>4</th>\n",
       "      <th>5</th>\n",
       "      <th>6</th>\n",
       "    </tr>\n",
       "  </thead>\n",
       "  <tbody>\n",
       "    <tr>\n",
       "      <th>0</th>\n",
       "      <td>vhigh</td>\n",
       "      <td>vhigh</td>\n",
       "      <td>2</td>\n",
       "      <td>2</td>\n",
       "      <td>small</td>\n",
       "      <td>low</td>\n",
       "      <td>unacc</td>\n",
       "    </tr>\n",
       "    <tr>\n",
       "      <th>1</th>\n",
       "      <td>vhigh</td>\n",
       "      <td>vhigh</td>\n",
       "      <td>2</td>\n",
       "      <td>2</td>\n",
       "      <td>small</td>\n",
       "      <td>med</td>\n",
       "      <td>unacc</td>\n",
       "    </tr>\n",
       "    <tr>\n",
       "      <th>2</th>\n",
       "      <td>vhigh</td>\n",
       "      <td>vhigh</td>\n",
       "      <td>2</td>\n",
       "      <td>2</td>\n",
       "      <td>small</td>\n",
       "      <td>high</td>\n",
       "      <td>unacc</td>\n",
       "    </tr>\n",
       "  </tbody>\n",
       "</table>\n",
       "</div>"
      ],
      "text/plain": [
       "       0      1  2  3      4     5      6\n",
       "0  vhigh  vhigh  2  2  small   low  unacc\n",
       "1  vhigh  vhigh  2  2  small   med  unacc\n",
       "2  vhigh  vhigh  2  2  small  high  unacc"
      ]
     },
     "execution_count": 3,
     "metadata": {},
     "output_type": "execute_result"
    }
   ],
   "source": [
    "data = pd.read_csv('car.txt', header = None)\n",
    "data.head(3)"
   ]
  },
  {
   "cell_type": "code",
   "execution_count": 4,
   "id": "female-guyana",
   "metadata": {},
   "outputs": [
    {
     "data": {
      "text/plain": [
       "high     432\n",
       "low      432\n",
       "vhigh    432\n",
       "med      432\n",
       "Name: 0, dtype: int64"
      ]
     },
     "execution_count": 4,
     "metadata": {},
     "output_type": "execute_result"
    }
   ],
   "source": [
    "data[0].value_counts()"
   ]
  },
  {
   "cell_type": "code",
   "execution_count": 5,
   "id": "loaded-barrier",
   "metadata": {},
   "outputs": [],
   "source": [
    "#1.使用标签编码进行数据预处理\n",
    "import sklearn.preprocessing as sp\n",
    "train_data = pd.DataFrame([])#创建一组新的dataFrame，防止改动原来的数据，而且如果在原来的数据上改的话，\n",
    "                             #下一次执行就会发生在这次执行之后的结果的基础上改的\n",
    "lbes = {}\n",
    "for k, v in data.items():\n",
    "    lbe = sp.LabelEncoder()\n",
    "    train_data[k] = lbe.fit_transform(v)\n",
    "    lbes[k]=lbe"
   ]
  },
  {
   "cell_type": "code",
   "execution_count": 6,
   "id": "union-picnic",
   "metadata": {},
   "outputs": [],
   "source": [
    "#2. 整理输入和输出\n",
    "import sklearn.model_selection as ms\n",
    "x, y = train_data.loc[:,:5], train_data[6]"
   ]
  },
  {
   "cell_type": "code",
   "execution_count": 7,
   "id": "suburban-committee",
   "metadata": {},
   "outputs": [],
   "source": [
    "#3. 拆分训练集和测试集，跳过因为数据集不够，再分的话容易造成欠拟合\n",
    "#4. 选择模型和创建模型\n",
    "import sklearn.ensemble as se\n",
    "model = se.RandomForestClassifier(max_depth = 8, n_estimators = 200, random_state = 7)"
   ]
  },
  {
   "cell_type": "code",
   "execution_count": 8,
   "id": "attractive-hormone",
   "metadata": {},
   "outputs": [
    {
     "data": {
      "text/plain": [
       "0.7665122680173463"
      ]
     },
     "execution_count": 8,
     "metadata": {},
     "output_type": "execute_result"
    }
   ],
   "source": [
    "#5. 使用交叉验证去验证模型\n",
    "import sklearn.model_selection as ms\n",
    "list_array = ms.cross_val_score(model, x, y, cv = 5, scoring='f1_weighted')\n",
    "list_array.mean()"
   ]
  },
  {
   "cell_type": "code",
   "execution_count": null,
   "id": "australian-flour",
   "metadata": {},
   "outputs": [
    {
     "name": "stderr",
     "output_type": "stream",
     "text": [
      "e:\\dev_kits_python\\python-3.8.2\\lib\\site-packages\\sklearn\\utils\\validation.py:70: FutureWarning: Pass param_name=n_estimators, param_range=[ 50 100 150 200 250 300 350 400 450 500] as keyword args. From version 1.0 (renaming of 0.25) passing these as positional arguments will result in an error\n",
      "  warnings.warn(f\"Pass {args_msg} as keyword args. From version \"\n"
     ]
    }
   ],
   "source": [
    "#6.1 验证曲线\n",
    "params = np.arange(50, 550, 50)\n",
    "train_scores, test_scores = ms.validation_curve(model, x, y, 'n_estimators', params, cv = 5)\n",
    "print(test_scores)"
   ]
  },
  {
   "cell_type": "code",
   "execution_count": 10,
   "id": "vocational-hearing",
   "metadata": {},
   "outputs": [],
   "source": [
    "#7.1 训练模型\n",
    "model.fit(x, y)\n",
    "pred_y = model.predict(x)"
   ]
  },
  {
   "cell_type": "code",
   "execution_count": 11,
   "id": "christian-teens",
   "metadata": {},
   "outputs": [
    {
     "name": "stdout",
     "output_type": "stream",
     "text": [
      "预测值： ['unacc' 'acc' 'good' 'vgood']\n",
      "实际值： ['unacc' 'acc' 'good' 'vgood']\n"
     ]
    }
   ],
   "source": [
    "#7.2 测试模型\n",
    "data = [['high', 'med', '5more', '4', 'big', 'low', 'unacc'],\n",
    "        ['high', 'high', '4', '4', 'med', 'med', 'acc'],\n",
    "        ['low', 'low', '2', '4', 'small', 'high', 'good'],\n",
    "        ['low', 'med', '3', '4', 'med', 'high', 'vgood']]\n",
    "test_data = pd.DataFrame(data)\n",
    "for k,v in test_data.items():\n",
    "    lbe = lbes[k]# 注意这里是用上面的标签编码器\n",
    "    test_data[k] = lbe.transform(v) #这里不能用fit_transform，因为上面已经fit完了\n",
    "test_x, test_y = test_data.loc[:, :5], test_data[6]\n",
    "pred_test_y = model.predict(test_x)\n",
    "print('预测值：', lbes[6].inverse_transform(pred_test_y)) #反转编码，标签编码器自带的\n",
    "print('实际值：', lbes[6].inverse_transform(test_y.values))"
   ]
  },
  {
   "cell_type": "code",
   "execution_count": 12,
   "id": "gorgeous-female",
   "metadata": {},
   "outputs": [
    {
     "data": {
      "text/plain": [
       "array([[ 382,    0,    1,    1],\n",
       "       [  37,   27,    0,    5],\n",
       "       [   5,    0, 1205,    0],\n",
       "       [   1,    0,    0,   64]], dtype=int64)"
      ]
     },
     "execution_count": 12,
     "metadata": {},
     "output_type": "execute_result"
    }
   ],
   "source": [
    "#8. 模型评估、混淆矩阵、分类报告\n",
    "#8.1 混淆矩阵\n",
    "import sklearn.metrics as sm\n",
    "array_confusion = sm.confusion_matrix(y, pred_y)\n",
    "array_confusion"
   ]
  },
  {
   "cell_type": "code",
   "execution_count": 13,
   "id": "embedded-veteran",
   "metadata": {},
   "outputs": [
    {
     "name": "stdout",
     "output_type": "stream",
     "text": [
      "              precision    recall  f1-score   support\n",
      "\n",
      "           0       0.90      0.99      0.94       384\n",
      "           1       1.00      0.39      0.56        69\n",
      "           2       1.00      1.00      1.00      1210\n",
      "           3       0.91      0.98      0.95        65\n",
      "\n",
      "    accuracy                           0.97      1728\n",
      "   macro avg       0.95      0.84      0.86      1728\n",
      "weighted avg       0.97      0.97      0.97      1728\n",
      "\n"
     ]
    }
   ],
   "source": [
    "#8.2 分类报告\n",
    "cr= sm.classification_report(y, pred_y)\n",
    "print(cr)"
   ]
  }
 ],
 "metadata": {
  "kernelspec": {
   "display_name": "Python 3",
   "language": "python",
   "name": "python3"
  },
  "language_info": {
   "codemirror_mode": {
    "name": "ipython",
    "version": 3
   },
   "file_extension": ".py",
   "mimetype": "text/x-python",
   "name": "python",
   "nbconvert_exporter": "python",
   "pygments_lexer": "ipython3",
   "version": "3.8.2"
  }
 },
 "nbformat": 4,
 "nbformat_minor": 5
}