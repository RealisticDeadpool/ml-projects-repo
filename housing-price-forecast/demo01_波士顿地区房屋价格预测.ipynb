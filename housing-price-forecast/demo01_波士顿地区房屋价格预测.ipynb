{
 "cells": [
  {
   "cell_type": "markdown",
   "metadata": {},
   "source": [
    "# demo01_波士顿地区房屋价格预测"
   ]
  },
  {
   "cell_type": "code",
   "execution_count": 47,
   "metadata": {},
   "outputs": [],
   "source": [
    "import numpy as np\n",
    "import matplotlib.pyplot as plt\n",
    "import sklearn.datasets as sd\n",
    "import pandas as pd"
   ]
  },
  {
   "cell_type": "code",
   "execution_count": 48,
   "metadata": {},
   "outputs": [
    {
     "name": "stdout",
     "output_type": "stream",
     "text": [
      "(506, 13) (506,)\n",
      "[6.320e-03 1.800e+01 2.310e+00 0.000e+00 5.380e-01 6.575e+00 6.520e+01\n",
      " 4.090e+00 1.000e+00 2.960e+02 1.530e+01 3.969e+02 4.980e+00] 24.0\n"
     ]
    }
   ],
   "source": [
    "# 加载数据集\n",
    "boston = sd.load_boston()\n",
    "print(boston.data.shape, boston.target.shape)\n",
    "print(boston.data[0], boston.target[0])"
   ]
  },
  {
   "cell_type": "code",
   "execution_count": 49,
   "metadata": {
    "scrolled": false
   },
   "outputs": [
    {
     "data": {
      "text/html": [
       "<div>\n",
       "<style scoped>\n",
       "    .dataframe tbody tr th:only-of-type {\n",
       "        vertical-align: middle;\n",
       "    }\n",
       "\n",
       "    .dataframe tbody tr th {\n",
       "        vertical-align: top;\n",
       "    }\n",
       "\n",
       "    .dataframe thead th {\n",
       "        text-align: right;\n",
       "    }\n",
       "</style>\n",
       "<table border=\"1\" class=\"dataframe\">\n",
       "  <thead>\n",
       "    <tr style=\"text-align: right;\">\n",
       "      <th></th>\n",
       "      <th>CRIM</th>\n",
       "      <th>ZN</th>\n",
       "      <th>INDUS</th>\n",
       "      <th>CHAS</th>\n",
       "      <th>NOX</th>\n",
       "      <th>RM</th>\n",
       "      <th>AGE</th>\n",
       "      <th>DIS</th>\n",
       "      <th>RAD</th>\n",
       "      <th>TAX</th>\n",
       "      <th>PTRATIO</th>\n",
       "      <th>B</th>\n",
       "      <th>LSTAT</th>\n",
       "      <th>TARGET</th>\n",
       "    </tr>\n",
       "  </thead>\n",
       "  <tbody>\n",
       "    <tr>\n",
       "      <th>0</th>\n",
       "      <td>0.00632</td>\n",
       "      <td>18.0</td>\n",
       "      <td>2.31</td>\n",
       "      <td>0.0</td>\n",
       "      <td>0.538</td>\n",
       "      <td>6.575</td>\n",
       "      <td>65.2</td>\n",
       "      <td>4.0900</td>\n",
       "      <td>1.0</td>\n",
       "      <td>296.0</td>\n",
       "      <td>15.3</td>\n",
       "      <td>396.90</td>\n",
       "      <td>4.98</td>\n",
       "      <td>24.0</td>\n",
       "    </tr>\n",
       "    <tr>\n",
       "      <th>1</th>\n",
       "      <td>0.02731</td>\n",
       "      <td>0.0</td>\n",
       "      <td>7.07</td>\n",
       "      <td>0.0</td>\n",
       "      <td>0.469</td>\n",
       "      <td>6.421</td>\n",
       "      <td>78.9</td>\n",
       "      <td>4.9671</td>\n",
       "      <td>2.0</td>\n",
       "      <td>242.0</td>\n",
       "      <td>17.8</td>\n",
       "      <td>396.90</td>\n",
       "      <td>9.14</td>\n",
       "      <td>21.6</td>\n",
       "    </tr>\n",
       "    <tr>\n",
       "      <th>2</th>\n",
       "      <td>0.02729</td>\n",
       "      <td>0.0</td>\n",
       "      <td>7.07</td>\n",
       "      <td>0.0</td>\n",
       "      <td>0.469</td>\n",
       "      <td>7.185</td>\n",
       "      <td>61.1</td>\n",
       "      <td>4.9671</td>\n",
       "      <td>2.0</td>\n",
       "      <td>242.0</td>\n",
       "      <td>17.8</td>\n",
       "      <td>392.83</td>\n",
       "      <td>4.03</td>\n",
       "      <td>34.7</td>\n",
       "    </tr>\n",
       "  </tbody>\n",
       "</table>\n",
       "</div>"
      ],
      "text/plain": [
       "      CRIM    ZN  INDUS  CHAS    NOX     RM   AGE     DIS  RAD    TAX  \\\n",
       "0  0.00632  18.0   2.31   0.0  0.538  6.575  65.2  4.0900  1.0  296.0   \n",
       "1  0.02731   0.0   7.07   0.0  0.469  6.421  78.9  4.9671  2.0  242.0   \n",
       "2  0.02729   0.0   7.07   0.0  0.469  7.185  61.1  4.9671  2.0  242.0   \n",
       "\n",
       "   PTRATIO       B  LSTAT  TARGET  \n",
       "0     15.3  396.90   4.98    24.0  \n",
       "1     17.8  396.90   9.14    21.6  \n",
       "2     17.8  392.83   4.03    34.7  "
      ]
     },
     "execution_count": 49,
     "metadata": {},
     "output_type": "execute_result"
    }
   ],
   "source": [
    "# 针对当前数据集，做简单数据分析， 看一下样本数据分布关系\n",
    "data = pd.DataFrame(boston.data, columns=boston.feature_names)\n",
    "# data.info()\n",
    "# data.describe()\n",
    "data['TARGET'] = boston.target\n",
    "data.head(3)"
   ]
  },
  {
   "cell_type": "code",
   "execution_count": 50,
   "metadata": {},
   "outputs": [
    {
     "data": {
      "text/plain": [
       "<matplotlib.axes._subplots.AxesSubplot at 0x18089026f98>"
      ]
     },
     "execution_count": 50,
     "metadata": {},
     "output_type": "execute_result"
    },
    {
     "data": {
      "image/png": "[encoded data removed]",
      "text/plain": [
       "<matplotlib.figure.Figure at 0x180893db7b8>"
      ]
     },
     "metadata": {
      "needs_background": "light"
     },
     "output_type": "display_data"
    }
   ],
   "source": [
    "data['TARGET'].plot.box()"
   ]
  },
  {
   "cell_type": "code",
   "execution_count": 51,
   "metadata": {},
   "outputs": [
    {
     "data": {
      "text/html": [
       "<div>\n",
       "<style scoped>\n",
       "    .dataframe tbody tr th:only-of-type {\n",
       "        vertical-align: middle;\n",
       "    }\n",
       "\n",
       "    .dataframe tbody tr th {\n",
       "        vertical-align: top;\n",
       "    }\n",
       "\n",
       "    .dataframe thead th {\n",
       "        text-align: right;\n",
       "    }\n",
       "</style>\n",
       "<table border=\"1\" class=\"dataframe\">\n",
       "  <thead>\n",
       "    <tr style=\"text-align: right;\">\n",
       "      <th></th>\n",
       "      <th>TARGET</th>\n",
       "    </tr>\n",
       "    <tr>\n",
       "      <th>CHAS</th>\n",
       "      <th></th>\n",
       "    </tr>\n",
       "  </thead>\n",
       "  <tbody>\n",
       "    <tr>\n",
       "      <th>0.0</th>\n",
       "      <td>22.093843</td>\n",
       "    </tr>\n",
       "    <tr>\n",
       "      <th>1.0</th>\n",
       "      <td>28.440000</td>\n",
       "    </tr>\n",
       "  </tbody>\n",
       "</table>\n",
       "</div>"
      ],
      "text/plain": [
       "         TARGET\n",
       "CHAS           \n",
       "0.0   22.093843\n",
       "1.0   28.440000"
      ]
     },
     "execution_count": 51,
     "metadata": {},
     "output_type": "execute_result"
    }
   ],
   "source": [
    "data['CHAS'].value_counts()\n",
    "data.pivot_table(index='CHAS', values='TARGET')"
   ]
  },
  {
   "cell_type": "code",
   "execution_count": 52,
   "metadata": {},
   "outputs": [
    {
     "data": {
      "text/plain": [
       "<matplotlib.axes._subplots.AxesSubplot at 0x18089292c88>"
      ]
     },
     "execution_count": 52,
     "metadata": {},
     "output_type": "execute_result"
    },
    {
     "data": {
      "image/png": "[encoded data removed]",
      "text/plain": [
       "<matplotlib.figure.Figure at 0x180892b5668>"
      ]
     },
     "metadata": {
      "needs_background": "light"
     },
     "output_type": "display_data"
    }
   ],
   "source": [
    "# 观察特征与房价之间的关系\n",
    "data.plot.scatter(x='DIS', y='TARGET')"
   ]
  },
  {
   "cell_type": "markdown",
   "metadata": {},
   "source": [
    "## 训练回归模型，预测房屋价格"
   ]
  },
  {
   "cell_type": "code",
   "execution_count": 53,
   "metadata": {},
   "outputs": [
    {
     "data": {
      "text/plain": [
       "((404, 13), (404,), (102, 13), (102,))"
      ]
     },
     "execution_count": 53,
     "metadata": {},
     "output_type": "execute_result"
    }
   ],
   "source": [
    "import sklearn.model_selection as ms\n",
    "\n",
    "# 1. 整理输入集、输出集\n",
    "x, y = data.loc[:, :'LSTAT'], data['TARGET']\n",
    "# 2. 拆分测试集、训练集\n",
    "# random_state: 随机种子，使用相同的种子做多次随机拆分，会得到相同的结果\n",
    "train_x, test_x, train_y, test_y = \\\n",
    "    ms.train_test_split(x, y, test_size=0.2, random_state=7)\n",
    "train_x.shape, train_y.shape, test_x.shape, test_y.shape"
   ]
  },
  {
   "cell_type": "code",
   "execution_count": 54,
   "metadata": {},
   "outputs": [
    {
     "name": "stdout",
     "output_type": "stream",
     "text": [
      "Training r2: 0.7697199562902917\n",
      "Testing r2: 0.5792176190651537\n"
     ]
    }
   ],
   "source": [
    "# 3. 使用训练集训练模型、使用测试集测试模型，输出模型得分\n",
    "import sklearn.linear_model as lm\n",
    "import sklearn.metrics as sm\n",
    "\n",
    "model = lm.LinearRegression()\n",
    "model.fit(train_x, train_y)\n",
    "# 评估\n",
    "pred_train_y = model.predict(train_x)\n",
    "pred_test_y = model.predict(test_x)\n",
    "print('Training r2:', sm.r2_score(train_y, pred_train_y))\n",
    "print('Testing r2:', sm.r2_score(test_y, pred_test_y))"
   ]
  },
  {
   "cell_type": "code",
   "execution_count": 55,
   "metadata": {},
   "outputs": [
    {
     "name": "stdout",
     "output_type": "stream",
     "text": [
      "Training r2: 0.7359528637144759\n",
      "Testing r2: 0.6536412499609423\n"
     ]
    }
   ],
   "source": [
    "# 岭回归\n",
    "import sklearn.linear_model as lm\n",
    "import sklearn.metrics as sm\n",
    "\n",
    "model = lm.Ridge(100)\n",
    "model.fit(train_x, train_y)\n",
    "# 评估\n",
    "pred_train_y = model.predict(train_x)\n",
    "pred_test_y = model.predict(test_x)\n",
    "print('Training r2:', sm.r2_score(train_y, pred_train_y))\n",
    "print('Testing r2:', sm.r2_score(test_y, pred_test_y))"
   ]
  },
  {
   "cell_type": "code",
   "execution_count": 56,
   "metadata": {},
   "outputs": [
    {
     "name": "stdout",
     "output_type": "stream",
     "text": [
      "Training r2: 0.9182191175542828\n",
      "Testing r2: 0.7614461046352334\n"
     ]
    }
   ],
   "source": [
    "# 多项式回归\n",
    "import sklearn.linear_model as lm\n",
    "import sklearn.metrics as sm\n",
    "import sklearn.preprocessing as sp\n",
    "import sklearn.pipeline as pl\n",
    "\n",
    "model = pl.make_pipeline(sp.PolynomialFeatures(2), lm.Ridge(500))\n",
    "model.fit(train_x, train_y)\n",
    "# 评估\n",
    "pred_train_y = model.predict(train_x)\n",
    "pred_test_y = model.predict(test_x)\n",
    "print('Training r2:', sm.r2_score(train_y, pred_train_y))\n",
    "print('Testing r2:', sm.r2_score(test_y, pred_test_y))"
   ]
  },
  {
   "cell_type": "code",
   "execution_count": 57,
   "metadata": {},
   "outputs": [
    {
     "data": {
      "text/plain": [
       "array([ 0.00000000e+00,  2.96566806e-03, -9.98738357e-02,  8.26785713e-03,\n",
       "       -2.20495115e-03,  1.88994979e-03,  1.81554811e-02,  1.98632405e-01,\n",
       "       -1.44847925e-02,  1.40785147e-02, -5.28540686e-02, -1.20594529e-02,\n",
       "        7.80101756e-02,  3.32773042e-02,  2.05529154e-03,  1.02363919e-01,\n",
       "        5.79694976e-02,  1.19970132e-02, -2.22914415e-02, -4.68992016e-02,\n",
       "       -5.39762090e-03, -7.75418187e-02, -7.00551393e-02,  1.94792976e-03,\n",
       "       -2.62199413e-03,  1.30972307e-04, -2.23437648e-03, -5.08993191e-05,\n",
       "       -3.56156601e-03, -3.54118076e-02, -3.01080854e-02,  4.51567455e-02,\n",
       "       -4.15680988e-04, -8.27343655e-03, -1.14222367e-03,  3.69002284e-04,\n",
       "        6.44946606e-04, -5.68742010e-04, -6.00808084e-04,  2.94091469e-02,\n",
       "       -7.75755679e-02,  1.78055081e-02,  1.27958662e-02,  5.88806846e-03,\n",
       "        3.91935338e-02,  2.85620370e-02,  1.00494793e-03, -6.20563646e-02,\n",
       "       -5.22053011e-04, -3.65209449e-02, -2.20495115e-03, -6.19626545e-03,\n",
       "       -2.30758852e-02, -5.03514862e-02,  2.62256044e-02,  9.12476020e-02,\n",
       "        1.17411495e-02,  4.46653923e-02,  1.58864031e-03,  5.82278866e-02,\n",
       "        1.39891190e-03,  1.59648014e-02,  3.85143214e-02,  6.68515764e-03,\n",
       "       -2.53798194e-02, -4.18986667e-02,  1.51386219e-02,  2.47360134e-03,\n",
       "        5.95604282e-02,  3.89900355e-01,  2.23001308e-02,  2.31999935e-02,\n",
       "       -5.20717509e-02, -8.91162330e-03,  1.65609319e-02,  9.41048143e-03,\n",
       "       -1.16436070e-01, -1.69653803e-04,  8.58251421e-03,  8.84611303e-03,\n",
       "       -4.56356379e-04, -8.45117120e-04, -8.38944402e-04, -2.79366546e-03,\n",
       "        1.85937299e-01, -4.54881036e-02, -2.76344496e-03, -9.99351629e-02,\n",
       "       -1.80944350e-03, -6.10055434e-03, -1.43630736e-01,  5.83143287e-03,\n",
       "        4.40627769e-02, -1.58560127e-03, -2.73897891e-02, -2.88597465e-05,\n",
       "        5.48504192e-03,  8.34347131e-05, -8.84648194e-05, -1.94887912e-02,\n",
       "       -2.41714812e-03,  2.16022043e-02, -4.21302197e-05,  4.24098492e-05,\n",
       "        2.74812307e-02])"
      ]
     },
     "execution_count": 57,
     "metadata": {},
     "output_type": "execute_result"
    }
   ],
   "source": [
    "model.get_params()['ridge'].coef_"
   ]
  },
  {
   "cell_type": "markdown",
   "metadata": {},
   "source": [
    "## 决策树回归"
   ]
  },
  {
   "cell_type": "code",
   "execution_count": 58,
   "metadata": {},
   "outputs": [
    {
     "name": "stdout",
     "output_type": "stream",
     "text": [
      "Training r2: 0.9454133594787815\n",
      "Testing r2: 0.6860471545014241\n"
     ]
    }
   ],
   "source": [
    "# 决策树回归\n",
    "import sklearn.metrics as sm\n",
    "import sklearn.tree as st\n",
    "\n",
    "# 如果出现了过拟合情况：\n",
    "# 把max_depth调低一点、把min_samples_split调高一点\n",
    "model = st.DecisionTreeRegressor(\n",
    "        max_depth=6, min_samples_split=5)\n",
    "model.fit(train_x, train_y)\n",
    "# 评估\n",
    "pred_train_y = model.predict(train_x)\n",
    "pred_test_y = model.predict(test_x)\n",
    "print('Training r2:', sm.r2_score(train_y, pred_train_y))\n",
    "print('Testing r2:', sm.r2_score(test_y, pred_test_y))"
   ]
  },
  {
   "cell_type": "markdown",
   "metadata": {},
   "source": [
    "### 决策树的可视化\n"
   ]
  },
  {
   "cell_type": "code",
   "execution_count": 59,
   "metadata": {},
   "outputs": [],
   "source": [
    "# import graphviz\n",
    "# import os\n",
    "# os.environ[\"PATH\"] += os.pathsep + 'C:/Program Files/Graphviz 2.44.1/bin' # 引入路径\n",
    "\n",
    "# dot_data = st.export_graphviz(model, out_file=None, \n",
    "#                               feature_names = boston.feature_names, \n",
    "#                               filled = True, rounded = True)\n",
    "# graph = graphviz.Source(dot_data)\n",
    "# graph"
   ]
  },
  {
   "cell_type": "code",
   "execution_count": 60,
   "metadata": {},
   "outputs": [
    {
     "data": {
      "text/plain": [
       "<matplotlib.axes._subplots.AxesSubplot at 0x18088db79b0>"
      ]
     },
     "execution_count": 60,
     "metadata": {},
     "output_type": "execute_result"
    },
    {
     "data": {
      "image/png": "[encoded data removed]",
      "text/plain": [
       "<matplotlib.figure.Figure at 0x180894260b8>"
      ]
     },
     "metadata": {
      "needs_background": "light"
     },
     "output_type": "display_data"
    }
   ],
   "source": [
    "fi = model.feature_importances_\n",
    "fi = pd.Series(fi, index=boston.feature_names)\n",
    "fi.sort_values().plot.barh()"
   ]
  },
  {
   "cell_type": "markdown",
   "metadata": {},
   "source": [
    "## 集合算法-AdaBoost"
   ]
  },
  {
   "cell_type": "code",
   "execution_count": 61,
   "metadata": {},
   "outputs": [
    {
     "name": "stdout",
     "output_type": "stream",
     "text": [
      "Training r2: 0.9697100638324825\n",
      "Testing r2: 0.8420244573711309\n"
     ]
    }
   ],
   "source": [
    "import sklearn.ensemble as se\n",
    "import sklearn.tree as st\n",
    "\n",
    "model = st.DecisionTreeRegressor(max_depth=5)\n",
    "model = se.AdaBoostRegressor(\n",
    "            model, n_estimators=80, random_state=7)\n",
    "model.fit(train_x, train_y)\n",
    "pred_train_y = model.predict(train_x)\n",
    "pred_test_y = model.predict(test_x)\n",
    "print('Training r2:', sm.r2_score(train_y, pred_train_y))\n",
    "print('Testing r2:', sm.r2_score(test_y, pred_test_y))"
   ]
  },
  {
   "cell_type": "code",
   "execution_count": 62,
   "metadata": {
    "scrolled": true
   },
   "outputs": [
    {
     "data": {
      "text/plain": [
       "<matplotlib.axes._subplots.AxesSubplot at 0x180891cb3c8>"
      ]
     },
     "execution_count": 62,
     "metadata": {},
     "output_type": "execute_result"
    },
    {
     "data": {
      "image/png": "[encoded data removed]",
      "text/plain": [
       "<matplotlib.figure.Figure at 0x18089126080>"
      ]
     },
     "metadata": {
      "needs_background": "light"
     },
     "output_type": "display_data"
    }
   ],
   "source": [
    "fi = model.feature_importances_\n",
    "fi = pd.Series(fi, index=boston.feature_names)\n",
    "fi.sort_values().plot.barh()"
   ]
  },
  {
   "cell_type": "code",
   "execution_count": null,
   "metadata": {},
   "outputs": [],
   "source": []
  },
  {
   "cell_type": "markdown",
   "metadata": {},
   "source": [
    "## 集合算法-GBDT"
   ]
  },
  {
   "cell_type": "code",
   "execution_count": 77,
   "metadata": {},
   "outputs": [
    {
     "name": "stdout",
     "output_type": "stream",
     "text": [
      "Training r2: 0.9728388126897038\n",
      "Testing r2: 0.8520732666345684\n",
      "Testing MAE: 2.208042427703373\n"
     ]
    }
   ],
   "source": [
    "model = se.GradientBoostingRegressor(\n",
    "    max_depth=3, n_estimators=80, min_samples_split=3)\n",
    "model.fit(train_x, train_y)\n",
    "pred_train_y = model.predict(train_x)\n",
    "pred_test_y = model.predict(test_x)\n",
    "print('Training r2:', sm.r2_score(train_y, pred_train_y))\n",
    "print('Testing r2:', sm.r2_score(test_y, pred_test_y))\n",
    "print('Testing MAE:', sm.mean_absolute_error(test_y, pred_test_y))"
   ]
  },
  {
   "cell_type": "code",
   "execution_count": null,
   "metadata": {},
   "outputs": [],
   "source": []
  },
  {
   "cell_type": "code",
   "execution_count": null,
   "metadata": {},
   "outputs": [],
   "source": []
  },
  {
   "cell_type": "code",
   "execution_count": null,
   "metadata": {},
   "outputs": [],
   "source": []
  },
  {
   "cell_type": "code",
   "execution_count": null,
   "metadata": {},
   "outputs": [],
   "source": []
  }
 ],
 "metadata": {
  "kernelspec": {
   "display_name": "Python 3",
   "language": "python",
   "name": "python3"
  },
  "language_info": {
   "codemirror_mode": {
    "name": "ipython",
    "version": 3
   },
   "file_extension": ".py",
   "mimetype": "text/x-python",
   "name": "python",
   "nbconvert_exporter": "python",
   "pygments_lexer": "ipython3",
   "version": "3.8.2"
  }
 },
 "nbformat": 4,
 "nbformat_minor": 2
}
